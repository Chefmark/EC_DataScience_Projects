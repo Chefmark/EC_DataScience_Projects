{
 "cells": [
  {
   "cell_type": "markdown",
   "id": "80083316",
   "metadata": {},
   "source": [
    "# Linear Regression Example"
   ]
  },
  {
   "cell_type": "code",
   "execution_count": 1,
   "id": "fbb5aff5",
   "metadata": {},
   "outputs": [],
   "source": [
    "import numpy as np\n",
    "\n",
    "from sklearn.linear_model import LinearRegression\n",
    "\n",
    "from sklearn.metrics import mean_squared_error"
   ]
  },
  {
   "cell_type": "markdown",
   "id": "295e9e28",
   "metadata": {},
   "source": [
    "Antag att vi har data, där y = inkomst och X har två kolumner för utbildningsnivå och arbetslivserfarenhet. "
   ]
  },
  {
   "cell_type": "markdown",
   "id": "9d6a09ba",
   "metadata": {},
   "source": [
    "# Estimating a simple linear regression model."
   ]
  },
  {
   "cell_type": "code",
   "execution_count": 2,
   "id": "b33d4797",
   "metadata": {},
   "outputs": [],
   "source": [
    "X = np.array([[5, 2], [3, 4], [2, 7], [0, 10]])\n",
    "y_true = np.array([34000, 31000, 33000, 28000])\n",
    "\n",
    "X_new = np.array([[2, 5], [1, 3]])"
   ]
  },
  {
   "cell_type": "code",
   "execution_count": 3,
   "id": "1ff117df",
   "metadata": {},
   "outputs": [
    {
     "name": "stdout",
     "output_type": "stream",
     "text": [
      "[[ 5  2]\n",
      " [ 3  4]\n",
      " [ 2  7]\n",
      " [ 0 10]]\n",
      "\n",
      "[34000 31000 33000 28000]\n"
     ]
    }
   ],
   "source": [
    "print(X)\n",
    "\n",
    "print()\n",
    "\n",
    "print(y_true)"
   ]
  },
  {
   "cell_type": "code",
   "execution_count": 4,
   "id": "41982030",
   "metadata": {},
   "outputs": [],
   "source": [
    "# 1. Initialize the model. \n",
    "lin_reg = LinearRegression()"
   ]
  },
  {
   "cell_type": "code",
   "execution_count": 5,
   "id": "3ff36fa2",
   "metadata": {},
   "outputs": [],
   "source": [
    "# 2. Fit the model. \n",
    "lin_reg = lin_reg.fit(X, y_true)"
   ]
  },
  {
   "cell_type": "code",
   "execution_count": 6,
   "id": "7425e1d6",
   "metadata": {},
   "outputs": [
    {
     "name": "stdout",
     "output_type": "stream",
     "text": [
      "predictions [34725.80645161 30758.06451613 31548.38709677 28967.74193548]\n",
      "true y [34000 31000 33000 28000]\n"
     ]
    }
   ],
   "source": [
    "# 3. Predicting the train data.\n",
    "y_pred = lin_reg.predict(X)\n",
    "print('predictions', y_pred)\n",
    "print('true y', y_true)"
   ]
  },
  {
   "cell_type": "code",
   "execution_count": null,
   "id": "ef2156f7",
   "metadata": {},
   "outputs": [],
   "source": []
  },
  {
   "cell_type": "code",
   "execution_count": 7,
   "id": "66fc700b",
   "metadata": {},
   "outputs": [],
   "source": [
    "# Predicting \"new data\" where we want to predict the salary y which in reality is unknow now. "
   ]
  },
  {
   "cell_type": "code",
   "execution_count": 8,
   "id": "922bc812",
   "metadata": {},
   "outputs": [
    {
     "data": {
      "text/plain": [
       "array([28774.19354839, 22629.03225806])"
      ]
     },
     "execution_count": 8,
     "metadata": {},
     "output_type": "execute_result"
    }
   ],
   "source": [
    "y_pred_new = lin_reg.predict(X_new)\n",
    "y_pred_new"
   ]
  },
  {
   "cell_type": "code",
   "execution_count": null,
   "id": "5a7b543e",
   "metadata": {},
   "outputs": [],
   "source": []
  },
  {
   "cell_type": "code",
   "execution_count": 9,
   "id": "3a22b85d",
   "metadata": {},
   "outputs": [
    {
     "name": "stdout",
     "output_type": "stream",
     "text": [
      "intercept 15096.774193548405\n",
      "coefficients [3370.96774194 1387.09677419]\n"
     ]
    }
   ],
   "source": [
    "# Kolla på parametrar (kallas attribut i Scikit-learn). \n",
    "print('intercept', lin_reg.intercept_)\n",
    "print('coefficients', lin_reg.coef_)"
   ]
  },
  {
   "cell_type": "code",
   "execution_count": 10,
   "id": "b82fb0ed",
   "metadata": {},
   "outputs": [
    {
     "data": {
      "text/plain": [
       "{'copy_X': True,\n",
       " 'fit_intercept': True,\n",
       " 'n_jobs': None,\n",
       " 'normalize': 'deprecated',\n",
       " 'positive': False}"
      ]
     },
     "execution_count": 10,
     "metadata": {},
     "output_type": "execute_result"
    }
   ],
   "source": [
    "# Kolla på hyperparametrar, i detta fallet så tog vi alla default värden. \n",
    "lin_reg.get_params()"
   ]
  },
  {
   "cell_type": "markdown",
   "id": "634f75cc",
   "metadata": {},
   "source": [
    "## Calculate Root Mean Squared Error (RMSE) for the training data"
   ]
  },
  {
   "cell_type": "code",
   "execution_count": 11,
   "id": "6e0d0889",
   "metadata": {},
   "outputs": [
    {
     "data": {
      "text/plain": [
       "952.50095250143"
      ]
     },
     "execution_count": 11,
     "metadata": {},
     "output_type": "execute_result"
    }
   ],
   "source": [
    "# Hyperparameter squared=False gives the root mean squared error. \n",
    "mean_squared_error(y_true, y_pred, squared=False)"
   ]
  },
  {
   "cell_type": "code",
   "execution_count": null,
   "id": "7132e231",
   "metadata": {},
   "outputs": [],
   "source": []
  },
  {
   "cell_type": "code",
   "execution_count": 12,
   "id": "7fe7589b",
   "metadata": {},
   "outputs": [
    {
     "ename": "NameError",
     "evalue": "name 'y' is not defined",
     "output_type": "error",
     "traceback": [
      "\u001b[1;31m---------------------------------------------------------------------------\u001b[0m",
      "\u001b[1;31mNameError\u001b[0m                                 Traceback (most recent call last)",
      "Input \u001b[1;32mIn [12]\u001b[0m, in \u001b[0;36m<cell line: 2>\u001b[1;34m()\u001b[0m\n\u001b[0;32m      1\u001b[0m \u001b[38;5;66;03m# Calulating the root mean squared error manually. \u001b[39;00m\n\u001b[1;32m----> 2\u001b[0m (np\u001b[38;5;241m.\u001b[39mmean(((y_pred \u001b[38;5;241m-\u001b[39m \u001b[43my\u001b[49m)\u001b[38;5;241m*\u001b[39m\u001b[38;5;241m*\u001b[39m\u001b[38;5;241m2\u001b[39m)))\u001b[38;5;241m*\u001b[39m\u001b[38;5;241m*\u001b[39m\u001b[38;5;241m0.5\u001b[39m\n",
      "\u001b[1;31mNameError\u001b[0m: name 'y' is not defined"
     ]
    }
   ],
   "source": [
    "# Calulating the root mean squared error manually. \n",
    "(np.mean(((y_pred - y)**2)))**0.5"
   ]
  },
  {
   "cell_type": "markdown",
   "id": "d4833ce3",
   "metadata": {},
   "source": [
    "\n",
    "### Vad är RMSE?\n",
    "\n",
    "RMSE står för Root Mean Squared Error.\\\n",
    "Det är ett mått för att utvärdera regressionsproblem och mäter prediktionernas medelavstånd från de äkta, observerade värdena.\n",
    "\n",
    "Matematiska formeln för RMSE är:\n",
    "\n",
    "$RMSE = \\sqrt{\\frac{1} {n} \\sum_{i=1}^{n}(\\hat{y}_i-y_i)^2}$\n",
    "\n",
    "Idén bakom RMSE är simpel:\n",
    "- Man tar skillnaden mellan en prediktion och respektive observerad värde: $\\hat{y}_i-y_i$;    Det kallas för __Error__.\n",
    "- Vi bryr oss inte om det är en positiv eller negativ skillnad, därför kvadrerar vi: $(\\hat{y}_i-y_i)^2$;   Det kallas för __Squared Error__.\n",
    "- Vi räknar ut medelvärdet för Squared Error: $\\frac{1} {n} \\sum_{i=1}^{n}(\\hat{y}_i-y_i)^2$;    Det kallas för __Mean Squared Error__.\n",
    "- Vi tar roten ur Mean Squared Error, så måttet är på det samma skala som datan och därför lättare att tolka: $\\sqrt{\\frac{1} {n} \\sum_{i=1}^{n}(\\hat{y}_i-y_i)^2}$"
   ]
  },
  {
   "cell_type": "code",
   "execution_count": null,
   "id": "a4d16f8a",
   "metadata": {},
   "outputs": [],
   "source": []
  }
 ],
 "metadata": {
  "kernelspec": {
   "display_name": "Python 3 (ipykernel)",
   "language": "python",
   "name": "python3"
  },
  "language_info": {
   "codemirror_mode": {
    "name": "ipython",
    "version": 3
   },
   "file_extension": ".py",
   "mimetype": "text/x-python",
   "name": "python",
   "nbconvert_exporter": "python",
   "pygments_lexer": "ipython3",
   "version": "3.8.0"
  }
 },
 "nbformat": 4,
 "nbformat_minor": 5
}
